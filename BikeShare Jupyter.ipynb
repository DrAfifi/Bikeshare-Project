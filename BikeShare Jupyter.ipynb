{
 "cells": [
  {
   "cell_type": "code",
   "execution_count": 1,
   "id": "dabad53c",
   "metadata": {},
   "outputs": [],
   "source": [
    "import time\n",
    "import pandas as pd\n",
    "import numpy as np\n",
    "\n",
    "city_con = {\n",
    "    1: [\"chicago.csv\",\"Chicago\"],\n",
    "    2: [\"new_york_city.csv\",\"New York City\"],\n",
    "    3: [\"washington.csv\",\"Washington\"],\n",
    "    4:[0,\"Exit\"],\n",
    "    \"NS\":[0,\"Not selected\"]\n",
    "}\n",
    "\n",
    "\n",
    "fltr_choice = {\n",
    "    1:\"Month\",\n",
    "    2:\"Day\",\n",
    "    3:\"Show all data\",\n",
    "    4:\"Exit\",\n",
    "    \"NS\":\"Not selected\"\n",
    "}\n",
    "\n",
    "\n",
    "days_con = {\n",
    "    0: \"Saturday\",\n",
    "    1: \"Sunday\",\n",
    "    2: \"Monday\",\n",
    "    3: \"Tuesday\",\n",
    "    4: \"Wednesday\",\n",
    "    5: \"Thursday\",\n",
    "    6: \"Friday\",\n",
    "    \"NS\": \"Not selected\"\n",
    "}\n",
    "\n",
    "\n",
    "months_con = {\n",
    "    1: [\"January\",31],\n",
    "    2: [\"February\",28],\n",
    "    3: [\"March\",31],\n",
    "    4: [\"April\",30],\n",
    "    5: [\"May\",31],\n",
    "    6: [\"June\",30],\n",
    "    \"NS\":[\"Not selected\",0]\n",
    "}"
   ]
  },
  {
   "cell_type": "code",
   "execution_count": 2,
   "id": "b7a02249",
   "metadata": {},
   "outputs": [],
   "source": [
    "def get_filters():\n",
    "    city=dy=fltr=mon=\"NS\"\n",
    "    print('Hello! Let\\'s explore some US bikeshare data!')\n",
    "    while True:\n",
    "        city = int(input(\"Would you like to see data for Chicago Enter 1, New York City Enter 2, Washington Enter 3 ,or 4 to exit:: \"))\n",
    "        if city==1 or city==2 or city==3:\n",
    "            print(\"You have entered \", city_con[city][1])\n",
    "            break\n",
    "        elif city == 4:\n",
    "            print(\"You choosed to exit\")\n",
    "            break\n",
    "        else:\n",
    "            print(\"You have entered a wrong number, Kindly try again\")\n",
    "\n",
    "    while True:\n",
    "        if city==4:\n",
    "            break\n",
    "        fltr = int(input(\"Would you like to filter the data by month Enter 1, day Enter 2, not at all Enter 3 or 4 to exit:: \"))\n",
    "        if fltr==1 or fltr==2 or fltr==3 :\n",
    "            print(\"You have choosed:\", fltr_choice[fltr])\n",
    "            if fltr==1:\n",
    "                dy=\"NS\"\n",
    "            elif fltr==2:\n",
    "                mon=\"NS\"\n",
    "            else:\n",
    "                dy=mon=\"NS\"\n",
    "            break\n",
    "        elif fltr == 4:\n",
    "            print(\"You choosed to exit\")\n",
    "            break\n",
    "        else:\n",
    "            print(\"You have entered a wrong number, Kindly try again\")\n",
    "\n",
    "    while True:\n",
    "        if city==4 or fltr==3 or fltr==4:\n",
    "            break\n",
    "        elif fltr==1:\n",
    "            mon = int(input(\"January Enter 1, February Enter 2, March Enter 3, April Enter 4, May Enter 5, June Enter 6 :: \"))    \n",
    "            break\n",
    "        elif fltr==2:\n",
    "            dy = int(input(\"Saturday Enter 0, Sunday Enter 1, Monday Enter 2, Tuesday Enter 3, Wednesday Enter 4, Thursday Enter 5, FridayEnter 6 :: \"))\n",
    "            break\n",
    "        else:\n",
    "            print(\"You have entered a wrong number, Kindly try again\")\n",
    "    \n",
    "    \n",
    "    \n",
    "    print(\"\\n\")\n",
    "    print('-'*40)\n",
    "    return city, fltr, mon, dy\n",
    "    \n"
   ]
  },
  {
   "cell_type": "code",
   "execution_count": 556,
   "id": "4bea74bf",
   "metadata": {},
   "outputs": [],
   "source": [
    "def day_to_letter(month,day):\n",
    "    if month>1:\n",
    "        for i in range(1,month):\n",
    "            day=day+months_con[i][1]\n",
    "    return days_con[day%7]"
   ]
  },
  {
   "cell_type": "code",
   "execution_count": 557,
   "id": "1e8c9b54",
   "metadata": {},
   "outputs": [],
   "source": [
    "def load_data(city, fltr, mon, dy):\n",
    "    if city==4 or fltr==4:\n",
    "        return 0\n",
    "    else:\n",
    "        df = pd.read_csv(city_con[city][0])\n",
    "        df['Start Time'] = pd.to_datetime(df['Start Time'])  # convert the Start Time column to datetime\n",
    "        df['year'] = df['Start Time'].dt.year\n",
    "        df['month'] = df['Start Time'].dt.month\n",
    "        df['day'] = df['Start Time'].dt.day\n",
    "        df['hour'] = df['Start Time'].dt.hour\n",
    "        df[\"dayletter\"] = df[[\"month\",\"day\"]].apply(lambda x: day_to_letter(*x),axis=1)\n",
    "        df[\"trip\"]= \"From \" + df[\"Start Station\"] + \" to \" + df[\"End Station\"]\n",
    "  \n",
    "    if fltr == 1:                                    # filter by day of week if applicable\n",
    "        df = df[df['month'] == mon]                  # filter by day of week to create the new dataframe\n",
    "    if fltr == 2:                                    # filter by day of week if applicable\n",
    "        df = df[df['dayletter'] == days_con[dy]]     # filter by day of week to create the new dataframe\n",
    "\n",
    "    return df"
   ]
  },
  {
   "cell_type": "code",
   "execution_count": 561,
   "id": "149ae0c9",
   "metadata": {},
   "outputs": [],
   "source": [
    "def time_stats(df,fltr):\n",
    "    if city==4 or fltr==4:\n",
    "        return 0\n",
    "    else:\n",
    "        if fltr != 1:\n",
    "            print(\"*) The most common month is\",months_con[df[\"month\"].value_counts().index[0]][0], \", with a total bike riders of\",df[\"month\"].value_counts().iloc[0],\".\\n\")\n",
    "        elif fltr != 2:\n",
    "            print(\"*) The most common day of the week is\",df[\"dayletter\"].value_counts().index[0], \", with a total bike riders of\",df[\"dayletter\"].value_counts().iloc[0],\".\\n\")\n",
    "        \n",
    "        print(\"*) The most common start hour is\",df[\"hour\"].value_counts().index[0], \":00 , with a total bike riders of\",df[\"hour\"].value_counts().iloc[0],\".\\n\")\n",
    "        print('-'*40)\n",
    "    \n"
   ]
  },
  {
   "cell_type": "code",
   "execution_count": 558,
   "id": "9f6809a2",
   "metadata": {},
   "outputs": [],
   "source": [
    "def station_stats(df):\n",
    "    if city==4 or fltr==4:\n",
    "        return 0\n",
    "    else:\n",
    "        print(\"*) The most common start station is \",df['Start Station'].value_counts().index[0],\" and there are \",df['Start Station'].value_counts()[0], \" bike riders started out of there.\\n\")\n",
    "        print(\"*) The first five start stations (sorted by the total number of users) are: \", df['Start Station'].value_counts().index[0:5], \"\\n\")    \n",
    "        print(\"*) The most common end station is \",df['End Station'].value_counts().index[0],\" and there are \",df['End Station'].value_counts()[0], \" bike riders ended there.\\n\")\n",
    "        print(\"*) The first five start stations (sorted by the total number of users) are: \", df['End Station'].value_counts().index[0:5], \"\\n\")\n",
    "        print(\"\\n*) The most common rout (same start and end stations) is \", df[\"trip\"].value_counts().index[0],\" and there are \",df['trip'].value_counts()[0], \" used it.\\n\")\n",
    "        print('-'*40)\n"
   ]
  },
  {
   "cell_type": "code",
   "execution_count": 559,
   "id": "eb02211f",
   "metadata": {},
   "outputs": [],
   "source": [
    "def trip_duration_stats(df):\n",
    "    if city==4 or fltr==4:\n",
    "        return 0\n",
    "    else:\n",
    "        print(\"*) The smallest trip duration is \",df[\"Trip Duration\"].min(),\" seconds, for the trip \",df.loc[df[\"Trip Duration\"] == (df[\"Trip Duration\"].min()),\"trip\"].iloc[0], \".\\n\")\n",
    "        print(\"*) The longest trip duration is \",df[\"Trip Duration\"].max(),\" seconds, for the trip \",df.loc[df[\"Trip Duration\"] == (df[\"Trip Duration\"].max()),\"trip\"].iloc[0], \".\\n\")\n",
    "        print(\"*) The trip duration first quartile  = \", df[\"Trip Duration\"].quantile(.25) ,\"\\n   The trip duration second quartile = \", df[\"Trip Duration\"].quantile(),\"\\n   The trip duration third quartile  = \", df[\"Trip Duration\"].quantile(.75),\"\\n\")  \n",
    "        print('-'*40)\n",
    "\n"
   ]
  },
  {
   "cell_type": "code",
   "execution_count": 560,
   "id": "692f0b57",
   "metadata": {},
   "outputs": [],
   "source": [
    "def user_stats(df):\n",
    "    if city==4 or fltr==4:\n",
    "        return 0\n",
    "    else:\n",
    "        v0=df[\"User Type\"].value_counts()[0]\n",
    "        v1=df[\"User Type\"].value_counts()[1]\n",
    "        v00=((v0/(v0+v1))*100).round(2)\n",
    "        v11=((v1/(v0+v1))*100).round(2)\n",
    "        print(\"*) The \",df[\"User Type\"].value_counts().index[0],\" bike riders are \",df[\"User Type\"].value_counts()[0], \", and they are \", v00, \" % of all population\\n\")\n",
    "        print(\"*) The \",df[\"User Type\"].value_counts().index[1],\" bike riders are \",df[\"User Type\"].value_counts()[1], \", and they are \", v11, \" % of all population\\n\")  \n",
    "        if city != 3:\n",
    "            g0=df[\"Gender\"].value_counts()[0]\n",
    "            g1=df[\"Gender\"].value_counts()[1]\n",
    "            g00=((g0/(g0+g1))*100).round(2)\n",
    "            g11=((g1/(g0+g1))*100).round(2)\n",
    "            print(\"*) The \",df[\"Gender\"].value_counts().index[0],\" bike riders are \",df[\"Gender\"].value_counts()[0], \", and they are \", g00, \" % of all population\\n\")\n",
    "            print(\"*) The \",df[\"Gender\"].value_counts().index[1],\" bike riders are \",df[\"Gender\"].value_counts()[1], \", and they are \", g11, \" % of all population\\n\")  \n",
    "            \n",
    "            print(\"*) The youngest bike rider is \", 2021-df[\"Birth Year\"].max(), \" years old.\\n\")\n",
    "            print(\"*) The oldest bike rider is \", 2021-df[\"Birth Year\"].min(), \" years old.\\n\")\n",
    "\n",
    "        print('-'*40)\n"
   ]
  },
  {
   "cell_type": "code",
   "execution_count": 563,
   "id": "4c94bbfd",
   "metadata": {
    "scrolled": false
   },
   "outputs": [
    {
     "name": "stdout",
     "output_type": "stream",
     "text": [
      "Hello! Let's explore some US bikeshare data!\n",
      "Would you like to see data for Chicago Enter 1, New York City Enter 2, Washington Enter 3 ,or 4 to exit:: 1\n",
      "You have entered  Chicago\n",
      "Would you like to filter the data by month Enter 1, day Enter 2, not at all Enter 3 or 4 to exit:: 3\n",
      "You have choosed: Show all data\n",
      "\n",
      "\n",
      "----------------------------------------\n",
      "*) The most common month is June , with a total bike riders of 98081 .\n",
      "\n",
      "*) The most common start hour is 17 :00 , with a total bike riders of 35992 .\n",
      "\n",
      "----------------------------------------\n",
      "*) The most common start station is  Streeter Dr & Grand Ave  and there are  6911  bike riders started out of there.\n",
      "\n",
      "*) The first five start stations (sorted by the total number of users) are:  Index(['Streeter Dr & Grand Ave', 'Clinton St & Washington Blvd',\n",
      "       'Lake Shore Dr & Monroe St', 'Clinton St & Madison St',\n",
      "       'Canal St & Adams St'],\n",
      "      dtype='object') \n",
      "\n",
      "*) The most common end station is  Streeter Dr & Grand Ave  and there are  7512  bike riders ended there.\n",
      "\n",
      "*) The first five start stations (sorted by the total number of users) are:  Index(['Streeter Dr & Grand Ave', 'Clinton St & Washington Blvd',\n",
      "       'Lake Shore Dr & Monroe St', 'Clinton St & Madison St',\n",
      "       'Lake Shore Dr & North Blvd'],\n",
      "      dtype='object') \n",
      "\n",
      "\n",
      "*) The most common rout (same start and end stations) is  From Lake Shore Dr & Monroe St to Streeter Dr & Grand Ave  and there are  854  used it.\n",
      "\n",
      "----------------------------------------\n",
      "*) The smallest trip duration is  60  seconds, for the trip  From State St & 19th St to State St & 19th St .\n",
      "\n",
      "*) The longest trip duration is  86224  seconds, for the trip  From Central Park Ave & Ogden Ave to Central Park Ave & Ogden Ave .\n",
      "\n",
      "*) The trip duration first quartile  =  393.0 \n",
      "   The trip duration second quartile =  670.0 \n",
      "   The trip duration third quartile  =  1125.0 \n",
      "\n",
      "----------------------------------------\n",
      "*) The  Subscriber  bike riders are  238889 , and they are  79.63  % of all population\n",
      "\n",
      "*) The  Customer  bike riders are  61110 , and they are  20.37  % of all population\n",
      "\n",
      "*) The  Male  bike riders are  181190 , and they are  75.83  % of all population\n",
      "\n",
      "*) The  Female  bike riders are  57758 , and they are  24.17  % of all population\n",
      "\n",
      "*) The youngest bike rider is  5.0  years old.\n",
      "\n",
      "*) The oldest bike rider is  122.0  years old.\n",
      "\n",
      "----------------------------------------\n"
     ]
    },
    {
     "ename": "KeyboardInterrupt",
     "evalue": "Interrupted by user",
     "output_type": "error",
     "traceback": [
      "\u001b[1;31m---------------------------------------------------------------------------\u001b[0m",
      "\u001b[1;31mKeyboardInterrupt\u001b[0m                         Traceback (most recent call last)",
      "\u001b[1;32m<ipython-input-563-cb12cb107844>\u001b[0m in \u001b[0;36m<module>\u001b[1;34m\u001b[0m\n\u001b[0;32m     15\u001b[0m \u001b[1;33m\u001b[0m\u001b[0m\n\u001b[0;32m     16\u001b[0m \u001b[1;32mif\u001b[0m \u001b[0m__name__\u001b[0m \u001b[1;33m==\u001b[0m \u001b[1;34m\"__main__\"\u001b[0m\u001b[1;33m:\u001b[0m\u001b[1;33m\u001b[0m\u001b[1;33m\u001b[0m\u001b[0m\n\u001b[1;32m---> 17\u001b[1;33m         \u001b[0mmain\u001b[0m\u001b[1;33m(\u001b[0m\u001b[1;33m)\u001b[0m\u001b[1;33m\u001b[0m\u001b[1;33m\u001b[0m\u001b[0m\n\u001b[0m",
      "\u001b[1;32m<ipython-input-563-cb12cb107844>\u001b[0m in \u001b[0;36mmain\u001b[1;34m()\u001b[0m\n\u001b[0;32m      8\u001b[0m         \u001b[0muser_stats\u001b[0m\u001b[1;33m(\u001b[0m\u001b[0mdf\u001b[0m\u001b[1;33m)\u001b[0m\u001b[1;33m\u001b[0m\u001b[1;33m\u001b[0m\u001b[0m\n\u001b[0;32m      9\u001b[0m \u001b[1;33m\u001b[0m\u001b[0m\n\u001b[1;32m---> 10\u001b[1;33m         \u001b[0mrestart\u001b[0m \u001b[1;33m=\u001b[0m \u001b[0minput\u001b[0m\u001b[1;33m(\u001b[0m\u001b[1;34m'\\nWould you like to restart? Enter yes or no.\\n'\u001b[0m\u001b[1;33m)\u001b[0m\u001b[1;33m\u001b[0m\u001b[1;33m\u001b[0m\u001b[0m\n\u001b[0m\u001b[0;32m     11\u001b[0m         \u001b[1;32mif\u001b[0m \u001b[0mrestart\u001b[0m\u001b[1;33m.\u001b[0m\u001b[0mlower\u001b[0m\u001b[1;33m(\u001b[0m\u001b[1;33m)\u001b[0m \u001b[1;33m!=\u001b[0m \u001b[1;34m'yes'\u001b[0m\u001b[1;33m:\u001b[0m\u001b[1;33m\u001b[0m\u001b[1;33m\u001b[0m\u001b[0m\n\u001b[0;32m     12\u001b[0m             \u001b[0mprint\u001b[0m\u001b[1;33m(\u001b[0m\u001b[1;34m\"Thank you!\"\u001b[0m\u001b[1;33m)\u001b[0m\u001b[1;33m\u001b[0m\u001b[1;33m\u001b[0m\u001b[0m\n",
      "\u001b[1;32m~\\anaconda3\\lib\\site-packages\\ipykernel\\kernelbase.py\u001b[0m in \u001b[0;36mraw_input\u001b[1;34m(self, prompt)\u001b[0m\n\u001b[0;32m    858\u001b[0m                 \u001b[1;34m\"raw_input was called, but this frontend does not support input requests.\"\u001b[0m\u001b[1;33m\u001b[0m\u001b[1;33m\u001b[0m\u001b[0m\n\u001b[0;32m    859\u001b[0m             )\n\u001b[1;32m--> 860\u001b[1;33m         return self._input_request(str(prompt),\n\u001b[0m\u001b[0;32m    861\u001b[0m             \u001b[0mself\u001b[0m\u001b[1;33m.\u001b[0m\u001b[0m_parent_ident\u001b[0m\u001b[1;33m,\u001b[0m\u001b[1;33m\u001b[0m\u001b[1;33m\u001b[0m\u001b[0m\n\u001b[0;32m    862\u001b[0m             \u001b[0mself\u001b[0m\u001b[1;33m.\u001b[0m\u001b[0m_parent_header\u001b[0m\u001b[1;33m,\u001b[0m\u001b[1;33m\u001b[0m\u001b[1;33m\u001b[0m\u001b[0m\n",
      "\u001b[1;32m~\\anaconda3\\lib\\site-packages\\ipykernel\\kernelbase.py\u001b[0m in \u001b[0;36m_input_request\u001b[1;34m(self, prompt, ident, parent, password)\u001b[0m\n\u001b[0;32m    902\u001b[0m             \u001b[1;32mexcept\u001b[0m \u001b[0mKeyboardInterrupt\u001b[0m\u001b[1;33m:\u001b[0m\u001b[1;33m\u001b[0m\u001b[1;33m\u001b[0m\u001b[0m\n\u001b[0;32m    903\u001b[0m                 \u001b[1;31m# re-raise KeyboardInterrupt, to truncate traceback\u001b[0m\u001b[1;33m\u001b[0m\u001b[1;33m\u001b[0m\u001b[1;33m\u001b[0m\u001b[0m\n\u001b[1;32m--> 904\u001b[1;33m                 \u001b[1;32mraise\u001b[0m \u001b[0mKeyboardInterrupt\u001b[0m\u001b[1;33m(\u001b[0m\u001b[1;34m\"Interrupted by user\"\u001b[0m\u001b[1;33m)\u001b[0m \u001b[1;32mfrom\u001b[0m \u001b[1;32mNone\u001b[0m\u001b[1;33m\u001b[0m\u001b[1;33m\u001b[0m\u001b[0m\n\u001b[0m\u001b[0;32m    905\u001b[0m             \u001b[1;32mexcept\u001b[0m \u001b[0mException\u001b[0m \u001b[1;32mas\u001b[0m \u001b[0me\u001b[0m\u001b[1;33m:\u001b[0m\u001b[1;33m\u001b[0m\u001b[1;33m\u001b[0m\u001b[0m\n\u001b[0;32m    906\u001b[0m                 \u001b[0mself\u001b[0m\u001b[1;33m.\u001b[0m\u001b[0mlog\u001b[0m\u001b[1;33m.\u001b[0m\u001b[0mwarning\u001b[0m\u001b[1;33m(\u001b[0m\u001b[1;34m\"Invalid Message:\"\u001b[0m\u001b[1;33m,\u001b[0m \u001b[0mexc_info\u001b[0m\u001b[1;33m=\u001b[0m\u001b[1;32mTrue\u001b[0m\u001b[1;33m)\u001b[0m\u001b[1;33m\u001b[0m\u001b[1;33m\u001b[0m\u001b[0m\n",
      "\u001b[1;31mKeyboardInterrupt\u001b[0m: Interrupted by user"
     ]
    }
   ],
   "source": [
    "def main():\n",
    "    while True:\n",
    "        city, fltr, mon, dy = get_filters()\n",
    "        df = load_data(city, fltr, mon, dy)\n",
    "        time_stats(df,fltr)\n",
    "        station_stats(df)\n",
    "        trip_duration_stats(df)\n",
    "        user_stats(df)\n",
    "\n",
    "        restart = input('\\nWould you like to restart? Enter yes or no.\\n')\n",
    "        if restart.lower() != 'yes':\n",
    "            print(\"Thank you!\")\n",
    "            break\n",
    "\n",
    "\n",
    "if __name__ == \"__main__\":\n",
    "\tmain()"
   ]
  },
  {
   "cell_type": "code",
   "execution_count": null,
   "id": "46930323",
   "metadata": {},
   "outputs": [],
   "source": []
  },
  {
   "cell_type": "code",
   "execution_count": null,
   "id": "1eb5ea20",
   "metadata": {},
   "outputs": [],
   "source": []
  },
  {
   "cell_type": "code",
   "execution_count": null,
   "id": "a92f6098",
   "metadata": {},
   "outputs": [],
   "source": []
  },
  {
   "cell_type": "code",
   "execution_count": 15,
   "id": "e3671981",
   "metadata": {},
   "outputs": [
    {
     "name": "stdout",
     "output_type": "stream",
     "text": [
      "   Unnamed: 0           Start Time             End Time  Trip Duration  \\\n",
      "0     1423854  2017-06-23 15:09:32  2017-06-23 15:14:53            321   \n",
      "1      955915  2017-05-25 18:19:03  2017-05-25 18:45:53           1610   \n",
      "2        9031  2017-01-04 08:27:49  2017-01-04 08:34:45            416   \n",
      "3      304487  2017-03-06 13:49:38  2017-03-06 13:55:28            350   \n",
      "4       45207  2017-01-17 14:53:07  2017-01-17 15:02:01            534   \n",
      "\n",
      "                   Start Station                   End Station   User Type  \\\n",
      "0           Wood St & Hubbard St       Damen Ave & Chicago Ave  Subscriber   \n",
      "1            Theater on the Lake  Sheffield Ave & Waveland Ave  Subscriber   \n",
      "2             May St & Taylor St           Wood St & Taylor St  Subscriber   \n",
      "3  Christiana Ave & Lawrence Ave  St. Louis Ave & Balmoral Ave  Subscriber   \n",
      "4         Clark St & Randolph St  Desplaines St & Jackson Blvd  Subscriber   \n",
      "\n",
      "   Gender  Birth Year  \n",
      "0    Male      1992.0  \n",
      "1  Female      1992.0  \n",
      "2    Male      1981.0  \n",
      "3    Male      1986.0  \n",
      "4    Male      1975.0  \n"
     ]
    }
   ],
   "source": [
    "import pandas as pd\n",
    "df = pd.read_csv(city_con[city][0])\n",
    "print(df.head())    # start by viewing the first few rows of the dataset!"
   ]
  },
  {
   "cell_type": "code",
   "execution_count": 253,
   "id": "d027be41",
   "metadata": {},
   "outputs": [
    {
     "data": {
      "text/html": [
       "<div>\n",
       "<style scoped>\n",
       "    .dataframe tbody tr th:only-of-type {\n",
       "        vertical-align: middle;\n",
       "    }\n",
       "\n",
       "    .dataframe tbody tr th {\n",
       "        vertical-align: top;\n",
       "    }\n",
       "\n",
       "    .dataframe thead th {\n",
       "        text-align: right;\n",
       "    }\n",
       "</style>\n",
       "<table border=\"1\" class=\"dataframe\">\n",
       "  <thead>\n",
       "    <tr style=\"text-align: right;\">\n",
       "      <th></th>\n",
       "      <th>Unnamed: 0</th>\n",
       "      <th>Start Time</th>\n",
       "      <th>End Time</th>\n",
       "      <th>Trip Duration</th>\n",
       "      <th>Start Station</th>\n",
       "      <th>End Station</th>\n",
       "      <th>User Type</th>\n",
       "      <th>Gender</th>\n",
       "      <th>Birth Year</th>\n",
       "      <th>trip</th>\n",
       "      <th>year</th>\n",
       "      <th>month</th>\n",
       "      <th>day</th>\n",
       "      <th>hour</th>\n",
       "      <th>min</th>\n",
       "      <th>sec</th>\n",
       "      <th>dayletter</th>\n",
       "    </tr>\n",
       "  </thead>\n",
       "  <tbody>\n",
       "    <tr>\n",
       "      <th>0</th>\n",
       "      <td>1423854</td>\n",
       "      <td>2017-06-23 15:09:32</td>\n",
       "      <td>2017-06-23 15:14:53</td>\n",
       "      <td>321</td>\n",
       "      <td>Wood St &amp; Hubbard St</td>\n",
       "      <td>Damen Ave &amp; Chicago Ave</td>\n",
       "      <td>Subscriber</td>\n",
       "      <td>Male</td>\n",
       "      <td>1992.0</td>\n",
       "      <td>From Wood St &amp; Hubbard St to Damen Ave &amp; Chica...</td>\n",
       "      <td>2017</td>\n",
       "      <td>6</td>\n",
       "      <td>23</td>\n",
       "      <td>15</td>\n",
       "      <td>9</td>\n",
       "      <td>32</td>\n",
       "      <td>Friday</td>\n",
       "    </tr>\n",
       "    <tr>\n",
       "      <th>1</th>\n",
       "      <td>955915</td>\n",
       "      <td>2017-05-25 18:19:03</td>\n",
       "      <td>2017-05-25 18:45:53</td>\n",
       "      <td>1610</td>\n",
       "      <td>Theater on the Lake</td>\n",
       "      <td>Sheffield Ave &amp; Waveland Ave</td>\n",
       "      <td>Subscriber</td>\n",
       "      <td>Female</td>\n",
       "      <td>1992.0</td>\n",
       "      <td>From Theater on the Lake to Sheffield Ave &amp; Wa...</td>\n",
       "      <td>2017</td>\n",
       "      <td>5</td>\n",
       "      <td>25</td>\n",
       "      <td>18</td>\n",
       "      <td>19</td>\n",
       "      <td>3</td>\n",
       "      <td>Thursday</td>\n",
       "    </tr>\n",
       "    <tr>\n",
       "      <th>2</th>\n",
       "      <td>9031</td>\n",
       "      <td>2017-01-04 08:27:49</td>\n",
       "      <td>2017-01-04 08:34:45</td>\n",
       "      <td>416</td>\n",
       "      <td>May St &amp; Taylor St</td>\n",
       "      <td>Wood St &amp; Taylor St</td>\n",
       "      <td>Subscriber</td>\n",
       "      <td>Male</td>\n",
       "      <td>1981.0</td>\n",
       "      <td>From May St &amp; Taylor St to Wood St &amp; Taylor St</td>\n",
       "      <td>2017</td>\n",
       "      <td>1</td>\n",
       "      <td>4</td>\n",
       "      <td>8</td>\n",
       "      <td>27</td>\n",
       "      <td>49</td>\n",
       "      <td>Wednesday</td>\n",
       "    </tr>\n",
       "    <tr>\n",
       "      <th>3</th>\n",
       "      <td>304487</td>\n",
       "      <td>2017-03-06 13:49:38</td>\n",
       "      <td>2017-03-06 13:55:28</td>\n",
       "      <td>350</td>\n",
       "      <td>Christiana Ave &amp; Lawrence Ave</td>\n",
       "      <td>St. Louis Ave &amp; Balmoral Ave</td>\n",
       "      <td>Subscriber</td>\n",
       "      <td>Male</td>\n",
       "      <td>1986.0</td>\n",
       "      <td>From Christiana Ave &amp; Lawrence Ave to St. Loui...</td>\n",
       "      <td>2017</td>\n",
       "      <td>3</td>\n",
       "      <td>6</td>\n",
       "      <td>13</td>\n",
       "      <td>49</td>\n",
       "      <td>38</td>\n",
       "      <td>Monday</td>\n",
       "    </tr>\n",
       "    <tr>\n",
       "      <th>4</th>\n",
       "      <td>45207</td>\n",
       "      <td>2017-01-17 14:53:07</td>\n",
       "      <td>2017-01-17 15:02:01</td>\n",
       "      <td>534</td>\n",
       "      <td>Clark St &amp; Randolph St</td>\n",
       "      <td>Desplaines St &amp; Jackson Blvd</td>\n",
       "      <td>Subscriber</td>\n",
       "      <td>Male</td>\n",
       "      <td>1975.0</td>\n",
       "      <td>From Clark St &amp; Randolph St to Desplaines St &amp;...</td>\n",
       "      <td>2017</td>\n",
       "      <td>1</td>\n",
       "      <td>17</td>\n",
       "      <td>14</td>\n",
       "      <td>53</td>\n",
       "      <td>7</td>\n",
       "      <td>Tuesday</td>\n",
       "    </tr>\n",
       "  </tbody>\n",
       "</table>\n",
       "</div>"
      ],
      "text/plain": [
       "   Unnamed: 0          Start Time             End Time  Trip Duration  \\\n",
       "0     1423854 2017-06-23 15:09:32  2017-06-23 15:14:53            321   \n",
       "1      955915 2017-05-25 18:19:03  2017-05-25 18:45:53           1610   \n",
       "2        9031 2017-01-04 08:27:49  2017-01-04 08:34:45            416   \n",
       "3      304487 2017-03-06 13:49:38  2017-03-06 13:55:28            350   \n",
       "4       45207 2017-01-17 14:53:07  2017-01-17 15:02:01            534   \n",
       "\n",
       "                   Start Station                   End Station   User Type  \\\n",
       "0           Wood St & Hubbard St       Damen Ave & Chicago Ave  Subscriber   \n",
       "1            Theater on the Lake  Sheffield Ave & Waveland Ave  Subscriber   \n",
       "2             May St & Taylor St           Wood St & Taylor St  Subscriber   \n",
       "3  Christiana Ave & Lawrence Ave  St. Louis Ave & Balmoral Ave  Subscriber   \n",
       "4         Clark St & Randolph St  Desplaines St & Jackson Blvd  Subscriber   \n",
       "\n",
       "   Gender  Birth Year                                               trip  \\\n",
       "0    Male      1992.0  From Wood St & Hubbard St to Damen Ave & Chica...   \n",
       "1  Female      1992.0  From Theater on the Lake to Sheffield Ave & Wa...   \n",
       "2    Male      1981.0     From May St & Taylor St to Wood St & Taylor St   \n",
       "3    Male      1986.0  From Christiana Ave & Lawrence Ave to St. Loui...   \n",
       "4    Male      1975.0  From Clark St & Randolph St to Desplaines St &...   \n",
       "\n",
       "   year  month  day  hour  min  sec  dayletter  \n",
       "0  2017      6   23    15    9   32     Friday  \n",
       "1  2017      5   25    18   19    3   Thursday  \n",
       "2  2017      1    4     8   27   49  Wednesday  \n",
       "3  2017      3    6    13   49   38     Monday  \n",
       "4  2017      1   17    14   53    7    Tuesday  "
      ]
     },
     "execution_count": 253,
     "metadata": {},
     "output_type": "execute_result"
    }
   ],
   "source": [
    "df['Start Time'] = pd.to_datetime(df['Start Time'])  # convert the Start Time column to datetime\n",
    "df['year'] = df['Start Time'].dt.year\n",
    "df['month'] = df['Start Time'].dt.month\n",
    "df['day'] = df['Start Time'].dt.day\n",
    "df['hour'] = df['Start Time'].dt.hour\n",
    "df['min'] = df['Start Time'].dt.minute\n",
    "df['sec'] = df['Start Time'].dt.second\n",
    "df[\"dayletter\"] = df[[\"month\",\"day\"]].apply(lambda x: day_to_letter(*x),axis=1)\n"
   ]
  },
  {
   "cell_type": "code",
   "execution_count": 265,
   "id": "186ea618",
   "metadata": {},
   "outputs": [
    {
     "data": {
      "image/png": "[encoded data removed]",
      "text/plain": [
       "<Figure size 1008x576 with 1 Axes>"
      ]
     },
     "metadata": {
      "needs_background": "light"
     },
     "output_type": "display_data"
    }
   ],
   "source": [
    "x=df[\"dayletter\"].value_counts()\n",
    "\n",
    "import matplotlib.pyplot as plt\n",
    "%matplotlib inline  \n",
    "#only with jupyter to plot inline\n",
    "\n",
    "x.plot(kind=\"bar\",figsize=(14,8), color='red', edgecolor='black')\n",
    "plt.xlabel(x.name)\n",
    "plt.ylabel(\"No. of rider\")\n",
    "plt.title(\"%ss distribution\" % x.name)\n",
    "plt.show()\n"
   ]
  },
  {
   "cell_type": "code",
   "execution_count": 250,
   "id": "6d69831c",
   "metadata": {},
   "outputs": [
    {
     "name": "stdout",
     "output_type": "stream",
     "text": [
      "please enter a month: 5\n",
      "please enter a day: 3\n"
     ]
    },
    {
     "data": {
      "text/plain": [
       "'Wednesday'"
      ]
     },
     "execution_count": 250,
     "metadata": {},
     "output_type": "execute_result"
    }
   ],
   "source": [
    "df['Start Time'] = pd.to_datetime(df['Start Time'])  # convert the Start Time column to datetime\n",
    "df['year'] = df['Start Time'].dt.year\n",
    "df['month'] = df['Start Time'].dt.month\n",
    "df['day'] = df['Start Time'].dt.day\n",
    "df['hour'] = df['Start Time'].dt.hour\n",
    "df['min'] = df['Start Time'].dt.minute\n",
    "df['sec'] = df['Start Time'].dt.second\n",
    "\n",
    "\n",
    "month = int(input(\"please enter a month: \"))\n",
    "day = int(input(\"please enter a day: \"))\n",
    "\n",
    "def day_to_letter(month,day):\n",
    "    if month>1:\n",
    "        for i in range(1,month):\n",
    "            day=day+months_con[i][1]\n",
    "    return days_con[day%7]\n",
    "\n",
    "day_to_letter(month,day)"
   ]
  },
  {
   "cell_type": "code",
   "execution_count": 229,
   "id": "2370ab0c",
   "metadata": {},
   "outputs": [
    {
     "data": {
      "image/png": "[encoded data removed]",
      "text/plain": [
       "<Figure size 576x360 with 1 Axes>"
      ]
     },
     "metadata": {
      "needs_background": "light"
     },
     "output_type": "display_data"
    },
    {
     "name": "stdout",
     "output_type": "stream",
     "text": [
      "count    300000.000000\n",
      "mean          4.345790\n",
      "std           1.609719\n",
      "min           1.000000\n",
      "25%           3.000000\n",
      "50%           5.000000\n",
      "75%           6.000000\n",
      "max           6.000000\n",
      "Name: month, dtype: float64\n"
     ]
    }
   ],
   "source": [
    "df['Start Time'] = pd.to_datetime(df['Start Time'])  # convert the Start Time column to datetime\n",
    "df['year'] = df['Start Time'].dt.year\n",
    "df['month'] = df['Start Time'].dt.month\n",
    "df['day'] = df['Start Time'].dt.day\n",
    "df['hour'] = df['Start Time'].dt.hour\n",
    "df['min'] = df['Start Time'].dt.minute\n",
    "df['sec'] = df['Start Time'].dt.second\n",
    "\n",
    "x= df['month']\n",
    "\n",
    "\n",
    "import matplotlib.pyplot as plt\n",
    "%matplotlib inline  \n",
    "#only with jupyter to plot inline\n",
    "\n",
    "x.hist(bins=20, figsize=(8,5), align='left', color='red', edgecolor='black')\n",
    "plt.xlabel(x.name)\n",
    "plt.ylabel(\"No. of rider\")\n",
    "plt.title(\"%ss distribution\" % x.name)\n",
    "plt.show()\n",
    "print(x.describe())"
   ]
  },
  {
   "cell_type": "code",
   "execution_count": 87,
   "id": "52fe360e",
   "metadata": {},
   "outputs": [
    {
     "data": {
      "image/png": "[encoded data removed]",
      "text/plain": [
       "<Figure size 1008x576 with 1 Axes>"
      ]
     },
     "metadata": {
      "needs_background": "light"
     },
     "output_type": "display_data"
    }
   ],
   "source": [
    "x= df['Start Station'].value_counts().iloc[0:20] # the maximum 10 stations\n",
    "\n",
    "import matplotlib.pyplot as plt\n",
    "%matplotlib inline  \n",
    "#only with jupyter to plot inline\n",
    "\n",
    "x.plot(kind=\"bar\",figsize=(14,8), color='red', edgecolor='black')\n",
    "plt.xlabel(x.name)\n",
    "plt.ylabel(\"No. of rider\")\n",
    "plt.title(\"%ss distribution\" % x.name)\n",
    "plt.show()\n",
    "\n",
    "\n"
   ]
  },
  {
   "cell_type": "code",
   "execution_count": 223,
   "id": "59d251af",
   "metadata": {},
   "outputs": [
    {
     "data": {
      "image/png": "[encoded data removed]",
      "text/plain": [
       "<Figure size 1008x576 with 1 Axes>"
      ]
     },
     "metadata": {
      "needs_background": "light"
     },
     "output_type": "display_data"
    }
   ],
   "source": [
    "df[\"trip\"]= \"From \" + df[\"Start Station\"] + \" to \" + df[\"End Station\"]\n",
    "#print(df[\"trip\"].mode())\n",
    "x = df[\"trip\"].value_counts().iloc[0:10] # the maximum 10 same trips\n",
    "\n",
    "import matplotlib.pyplot as plt\n",
    "%matplotlib inline  \n",
    "#only with jupyter to plot inline\n",
    "\n",
    "x.plot(kind=\"bar\",figsize=(14,8), color='red', edgecolor='black')\n",
    "plt.xlabel(x.name)\n",
    "plt.ylabel(\"No. of rider\")\n",
    "plt.title(\"%ss distribution\" % x.name)\n",
    "plt.show()\n",
    "\n",
    "\n",
    "\n",
    "\n"
   ]
  },
  {
   "cell_type": "code",
   "execution_count": 221,
   "id": "75a6be54",
   "metadata": {},
   "outputs": [
    {
     "name": "stdout",
     "output_type": "stream",
     "text": [
      "300000\n",
      "568\n",
      "Wood St & Hubbard St\n",
      "300000\n",
      "572\n",
      "Damen Ave & Chicago Ave\n"
     ]
    }
   ],
   "source": [
    "print(df.shape[0])\n",
    "print(df[\"Start Station\"].unique().shape[0])\n",
    "print(df[\"Start Station\"].unique()[0])\n",
    "\n",
    "\n",
    "print(df.shape[0])\n",
    "print(df[\"End Station\"].unique().shape[0])\n",
    "print(df[\"End Station\"].unique()[0])"
   ]
  },
  {
   "cell_type": "code",
   "execution_count": 266,
   "id": "27c33237",
   "metadata": {},
   "outputs": [
    {
     "name": "stdout",
     "output_type": "stream",
     "text": [
      "(21809, 17)\n"
     ]
    }
   ],
   "source": [
    "y= df[df['month']==1]     # for the month number 1\n",
    "print(y.shape[0])         # number of rider at this month\n"
   ]
  },
  {
   "cell_type": "code",
   "execution_count": 6,
   "id": "8b045c75",
   "metadata": {},
   "outputs": [
    {
     "name": "stdout",
     "output_type": "stream",
     "text": [
      "Most Popular Start Hour: 17\n"
     ]
    }
   ],
   "source": [
    "import pandas as pd\n",
    "\n",
    "filename = 'chicago.csv'\n",
    "df = pd.read_csv(filename)                           # load data file into a dataframe\n",
    "df['Start Time'] = pd.to_datetime(df['Start Time'])  # convert the Start Time column to datetime\n",
    "df['hour'] = df['Start Time'].dt.hour                # extract hour from the Start Time column to create an hour column\n",
    "popular_hour = df['hour'].mode()[0]                  # find the most popular hour\n",
    "print('Most Popular Start Hour:', popular_hour)\n"
   ]
  },
  {
   "cell_type": "code",
   "execution_count": 34,
   "id": "4cd5cd22",
   "metadata": {},
   "outputs": [
    {
     "name": "stdout",
     "output_type": "stream",
     "text": [
      "Subscriber    238889\n",
      "Customer       61110\n",
      "Dependent          1\n",
      "Name: User Type, dtype: int64\n"
     ]
    }
   ],
   "source": [
    "import pandas as pd\n",
    "\n",
    "filename = 'chicago.csv'\n",
    "df = pd.read_csv(filename)                   # load data file into a dataframe\n",
    "user_types = df['User Type'].value_counts()  # print value counts for each user type\n",
    "print(user_types)"
   ]
  },
  {
   "cell_type": "code",
   "execution_count": 163,
   "id": "695d5702",
   "metadata": {},
   "outputs": [],
   "source": [
    "import pandas as pd\n",
    "\n",
    "CITY_DATA = { 'chicago': 'chicago.csv',\n",
    "              'new york city': 'new_york_city.csv',\n",
    "              'washington': 'washington.csv' }\n",
    "\n",
    "def load_data(city, month, day):\n",
    "    \"\"\"\n",
    "    Loads data for the specified city and filters by month and day if applicable.\n",
    "\n",
    "    Args:\n",
    "        (str) city - name of the city to analyze\n",
    "        (str) month - name of the month to filter by, or \"all\" to apply no month filter\n",
    "        (str) day - name of the day of week to filter by, or \"all\" to apply no day filter\n",
    "    Returns:\n",
    "        df - Pandas DataFrame containing city data filtered by month and day\n",
    "    \"\"\"\n",
    "\n",
    "\n",
    "    df = pd.read_csv(CITY_DATA[city])                    # load data file into a dataframe\n",
    "    df['Start Time'] = pd.to_datetime(df['Start Time'])  # convert the Start Time column to datetime\n",
    "    df['month'] = df['Start Time'].dt.month              # extract month and day of week from Start Time to create new columns\n",
    "    df['day_of_week'] = df['Start Time'].dt.weekday_name\n",
    "    \n",
    "    if month != 'all':                                  # filter by month if applicable\n",
    "        months = ['january', 'february', 'march', 'april', 'may', 'june']   # use the index of the months list to get the corresponding int\n",
    "        month = months.index(month) + 1\n",
    "        df = df[df['month'] == month]                   # filter by month to create the new dataframe\n",
    "\n",
    "    if day != 'all':                                    # filter by day of week if applicable\n",
    "        df = df[df['day_of_week'] == day.title()]       # filter by day of week to create the new dataframe\n",
    "\n",
    "    return df"
   ]
  },
  {
   "cell_type": "code",
   "execution_count": 336,
   "id": "6c299328",
   "metadata": {},
   "outputs": [
    {
     "ename": "AttributeError",
     "evalue": "'DatetimeProperties' object has no attribute 'weekday_name'",
     "output_type": "error",
     "traceback": [
      "\u001b[1;31m---------------------------------------------------------------------------\u001b[0m",
      "\u001b[1;31mAttributeError\u001b[0m                            Traceback (most recent call last)",
      "\u001b[1;32m<ipython-input-336-2f4183c52b19>\u001b[0m in \u001b[0;36m<module>\u001b[1;34m\u001b[0m\n\u001b[0;32m     25\u001b[0m \u001b[1;33m\u001b[0m\u001b[0m\n\u001b[0;32m     26\u001b[0m \u001b[1;33m\u001b[0m\u001b[0m\n\u001b[1;32m---> 27\u001b[1;33m \u001b[0mload_data\u001b[0m\u001b[1;33m(\u001b[0m\u001b[1;36m1\u001b[0m\u001b[1;33m,\u001b[0m \u001b[1;34m\"january\"\u001b[0m\u001b[1;33m,\u001b[0m \u001b[1;34m\"monday\"\u001b[0m\u001b[1;33m)\u001b[0m\u001b[1;33m\u001b[0m\u001b[1;33m\u001b[0m\u001b[0m\n\u001b[0m",
      "\u001b[1;32m<ipython-input-336-2f4183c52b19>\u001b[0m in \u001b[0;36mload_data\u001b[1;34m(city, month, day)\u001b[0m\n\u001b[0;32m     11\u001b[0m     \u001b[0mdf\u001b[0m\u001b[1;33m[\u001b[0m\u001b[1;34m'Start Time'\u001b[0m\u001b[1;33m]\u001b[0m \u001b[1;33m=\u001b[0m \u001b[0mpd\u001b[0m\u001b[1;33m.\u001b[0m\u001b[0mto_datetime\u001b[0m\u001b[1;33m(\u001b[0m\u001b[0mdf\u001b[0m\u001b[1;33m[\u001b[0m\u001b[1;34m'Start Time'\u001b[0m\u001b[1;33m]\u001b[0m\u001b[1;33m)\u001b[0m  \u001b[1;31m# convert the Start Time column to datetime\u001b[0m\u001b[1;33m\u001b[0m\u001b[1;33m\u001b[0m\u001b[0m\n\u001b[0;32m     12\u001b[0m     \u001b[0mdf\u001b[0m\u001b[1;33m[\u001b[0m\u001b[1;34m'month'\u001b[0m\u001b[1;33m]\u001b[0m \u001b[1;33m=\u001b[0m \u001b[0mdf\u001b[0m\u001b[1;33m[\u001b[0m\u001b[1;34m'Start Time'\u001b[0m\u001b[1;33m]\u001b[0m\u001b[1;33m.\u001b[0m\u001b[0mdt\u001b[0m\u001b[1;33m.\u001b[0m\u001b[0mmonth\u001b[0m              \u001b[1;31m# extract month and day of week from Start Time to create new columns\u001b[0m\u001b[1;33m\u001b[0m\u001b[1;33m\u001b[0m\u001b[0m\n\u001b[1;32m---> 13\u001b[1;33m     \u001b[0mdf\u001b[0m\u001b[1;33m[\u001b[0m\u001b[1;34m'day_of_week'\u001b[0m\u001b[1;33m]\u001b[0m \u001b[1;33m=\u001b[0m \u001b[0mdf\u001b[0m\u001b[1;33m[\u001b[0m\u001b[1;34m'Start Time'\u001b[0m\u001b[1;33m]\u001b[0m\u001b[1;33m.\u001b[0m\u001b[0mdt\u001b[0m\u001b[1;33m.\u001b[0m\u001b[0mweekday_name\u001b[0m \u001b[1;31m# convert day to day name in letters\u001b[0m\u001b[1;33m\u001b[0m\u001b[1;33m\u001b[0m\u001b[0m\n\u001b[0m\u001b[0;32m     14\u001b[0m \u001b[1;33m\u001b[0m\u001b[0m\n\u001b[0;32m     15\u001b[0m     \u001b[1;32mif\u001b[0m \u001b[0mmonth\u001b[0m \u001b[1;33m!=\u001b[0m \u001b[1;34m'all'\u001b[0m\u001b[1;33m:\u001b[0m                                  \u001b[1;31m# filter by month if applicable\u001b[0m\u001b[1;33m\u001b[0m\u001b[1;33m\u001b[0m\u001b[0m\n",
      "\u001b[1;31mAttributeError\u001b[0m: 'DatetimeProperties' object has no attribute 'weekday_name'"
     ]
    }
   ],
   "source": []
  },
  {
   "cell_type": "code",
   "execution_count": 278,
   "id": "f143e21c",
   "metadata": {},
   "outputs": [
    {
     "ename": "NameError",
     "evalue": "name 'time_stats' is not defined",
     "output_type": "error",
     "traceback": [
      "\u001b[1;31m---------------------------------------------------------------------------\u001b[0m",
      "\u001b[1;31mNameError\u001b[0m                                 Traceback (most recent call last)",
      "\u001b[1;32m<ipython-input-278-f93a31a7ba5a>\u001b[0m in \u001b[0;36m<module>\u001b[1;34m\u001b[0m\n\u001b[1;32m----> 1\u001b[1;33m \u001b[0mtime_stats\u001b[0m\u001b[1;33m(\u001b[0m\u001b[0mdf\u001b[0m\u001b[1;33m)\u001b[0m\u001b[1;33m\u001b[0m\u001b[1;33m\u001b[0m\u001b[0m\n\u001b[0m",
      "\u001b[1;31mNameError\u001b[0m: name 'time_stats' is not defined"
     ]
    }
   ],
   "source": [
    "time_stats(df)"
   ]
  }
 ],
 "metadata": {
  "kernelspec": {
   "display_name": "Python 3 (ipykernel)",
   "language": "python",
   "name": "python3"
  },
  "language_info": {
   "codemirror_mode": {
    "name": "ipython",
    "version": 3
   },
   "file_extension": ".py",
   "mimetype": "text/x-python",
   "name": "python",
   "nbconvert_exporter": "python",
   "pygments_lexer": "ipython3",
   "version": "3.8.11"
  }
 },
 "nbformat": 4,
 "nbformat_minor": 5
}
